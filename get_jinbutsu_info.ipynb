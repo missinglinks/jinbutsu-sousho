{
 "cells": [
  {
   "cell_type": "code",
   "execution_count": 45,
   "metadata": {
    "collapsed": true
   },
   "outputs": [],
   "source": [
    "import json\n",
    "import requests\n",
    "from bs4 import BeautifulSoup\n",
    "from tqdm import tqdm"
   ]
  },
  {
   "cell_type": "markdown",
   "metadata": {},
   "source": [
    "# Get wikidata ids"
   ]
  },
  {
   "cell_type": "code",
   "execution_count": 29,
   "metadata": {
    "collapsed": true
   },
   "outputs": [],
   "source": [
    "WIKI_URL = \"https://ja.wikipedia.org/wiki/%E4%BA%BA%E7%89%A9%E5%8F%A2%E6%9B%B8\"\n",
    "\n",
    "\n",
    "def get_jinbutsu_list():\n",
    "    \"\"\" returns names and wikidata links of all entries in wikipedia jinbutsu sousho list \"\"\"\n",
    "    re = requests.get(WIKI_URL)\n",
    "    soup = BeautifulSoup(re.text, \"html.parser\")\n",
    "    content = soup.find(\"div\", {\"id\": \"mw-content-text\"})\n",
    "    \n",
    "    entry_list = []\n",
    "    \n",
    "    for li in content.find_all(\"li\"):\n",
    "        title_links = []\n",
    "        for i, a in enumerate(li.find_all(\"a\")):\n",
    "            if i == 0:\n",
    "                author_link = a\n",
    "            else:\n",
    "                title_links.append(a)\n",
    "        entry_list.append({\n",
    "            \"author\": { \n",
    "                \"name\": author_link.text,\n",
    "                \"link\": author_link[\"href\"]\n",
    "            },\n",
    "            \"title\": [ { \"name\": x.text, \"link\": x[\"href\"] } for x in title_links ]\n",
    "        })\n",
    "    #print(content)\n",
    "    return entry_list"
   ]
  },
  {
   "cell_type": "code",
   "execution_count": 52,
   "metadata": {
    "collapsed": true
   },
   "outputs": [],
   "source": [
    "JA_WIKI = \"https://ja.wikipedia.org\"\n",
    "\n",
    "def get_wikidata_id(wiki_link):\n",
    "    \"\"\" return wikidata id for an wikidata link \"\"\"\n",
    "    re = requests.get(JA_WIKI+wiki_link)\n",
    "    soup = BeautifulSoup(re.text, \"html.parser\")\n",
    "    wikibase = soup.find(\"li\", {\"id\":\"t-wikibase\"})\n",
    "    try:\n",
    "        return wikibase.find(\"a\")[\"href\"]\n",
    "    except:\n",
    "        return None"
   ]
  },
  {
   "cell_type": "code",
   "execution_count": 253,
   "metadata": {},
   "outputs": [
    {
     "name": "stderr",
     "output_type": "stream",
     "text": [
      "100%|██████████| 290/290 [03:35<00:00,  1.46it/s]\n"
     ]
    }
   ],
   "source": [
    "wikidata_ids = []\n",
    "author_ids = []\n",
    "\n",
    "entries = get_jinbutsu_list()\n",
    "for entry in tqdm(entries):\n",
    "    wikidata = get_wikidata_id(entry[\"author\"][\"link\"])\n",
    "    if wikidata:\n",
    "        author_ids.append(wikidata)\n",
    "    for title in entry[\"title\"]:\n",
    "        wikidata = get_wikidata_id(title[\"link\"])\n",
    "        if wikidata:\n",
    "            wikidata_ids.append(wikidata)\n"
   ]
  },
  {
   "cell_type": "code",
   "execution_count": 254,
   "metadata": {
    "scrolled": true
   },
   "outputs": [],
   "source": [
    "wkps = [ x.split(\"/\")[-1].strip() for x in wikidata_ids ]\n",
    "author_wkps = [ x.split(\"/\")[-1].strip() for x in author_ids ]"
   ]
  },
  {
   "cell_type": "markdown",
   "metadata": {},
   "source": [
    "# Setup wikidata sparql functions"
   ]
  },
  {
   "cell_type": "code",
   "execution_count": 114,
   "metadata": {
    "collapsed": true
   },
   "outputs": [],
   "source": [
    "from SPARQLWrapper import SPARQLWrapper, JSON"
   ]
  },
  {
   "cell_type": "code",
   "execution_count": 162,
   "metadata": {
    "collapsed": true
   },
   "outputs": [],
   "source": [
    "QUERY = \"\"\"\n",
    "SELECT ?genderLabel ?countryLabel ?birth ?death ?place_birthLabel ?occupationLabel ?viaf\n",
    "WHERE \n",
    "{{\n",
    "  OPTIONAL {{\n",
    "    wd:{id} wdt:P21 ?gender .\n",
    "  }}\n",
    "  OPTIONAL {{\n",
    "    wd:{id} wdt:P27 ?country .\n",
    "  }}\n",
    "  OPTIONAL {{\n",
    "    wd:{id} wdt:P569 ?birth .\n",
    "  }}\n",
    "  OPTIONAL {{\n",
    "    wd:{id} wdt:P570 ?death .\n",
    "  }}\n",
    "  OPTIONAL {{\n",
    "    wd:{id} wdt:P19 ?place_birth .\n",
    "  }}\n",
    "  OPTIONAL {{\n",
    "    wd:{id} wdt:P106 ?occupation .\n",
    "  }}\n",
    "   OPTIONAL {{\n",
    "    wd:{id} wdt:P214 ?viaf .\n",
    "  }}\n",
    "  SERVICE wikibase:label {{ bd:serviceParam wikibase:language \"en\". }}\n",
    "}}\n",
    "\"\"\""
   ]
  },
  {
   "cell_type": "code",
   "execution_count": 163,
   "metadata": {
    "collapsed": true
   },
   "outputs": [],
   "source": [
    "def get_field(results, field):\n",
    "    \"\"\" returns field value from a sparql result set  \"\"\"\n",
    "    rv = set()\n",
    "    for result in results:\n",
    "        if field in result:\n",
    "            rv.add(result[field][\"value\"])\n",
    "    rv = list(rv)\n",
    "    if rv == []:\n",
    "        return None\n",
    "    elif len(rv) == 1:\n",
    "        return rv[0]\n",
    "    else:\n",
    "        return rv[0]"
   ]
  },
  {
   "cell_type": "code",
   "execution_count": 164,
   "metadata": {},
   "outputs": [],
   "source": [
    "sparql = SPARQLWrapper(\"https://query.wikidata.org/sparql\")\n",
    "\n",
    "def query_info(wkp):\n",
    "    \"\"\" fetches person info from wikidata \"\"\"\n",
    "    info = {}\n",
    "    sparql.setQuery(QUERY.format(id=wkp))\n",
    "    sparql.setReturnFormat(JSON)\n",
    "    results = sparql.query().convert()\n",
    "    result = results[\"results\"][\"bindings\"]\n",
    "    info[\"wkp\"] = wkp\n",
    "    info[\"gender\"] = get_field(result, \"genderLabel\")\n",
    "    info[\"birth_date\"] = get_field(result, \"birth\")\n",
    "    info[\"birth_place\"] = get_field(result, \"place_birthLabel\")\n",
    "    info[\"death_date\"] = get_field(result, \"death\")\n",
    "    info[\"occupation\"] = get_field(result, \"occupationLabel\")\n",
    "    info[\"viaf\"] = get_field(result, \"viaf\")\n",
    "    \n",
    "    return info"
   ]
  },
  {
   "cell_type": "markdown",
   "metadata": {},
   "source": [
    "# Retrieve jinbutsu person infos"
   ]
  },
  {
   "cell_type": "code",
   "execution_count": 165,
   "metadata": {},
   "outputs": [
    {
     "name": "stderr",
     "output_type": "stream",
     "text": [
      "100%|██████████| 289/289 [01:09<00:00,  4.37it/s]\n"
     ]
    }
   ],
   "source": [
    "jinbutsu = []\n",
    "\n",
    "for wkp in tqdm(wkps):\n",
    "    jinbutsu.append(query_info(wkp))"
   ]
  },
  {
   "cell_type": "code",
   "execution_count": null,
   "metadata": {
    "collapsed": true
   },
   "outputs": [],
   "source": [
    "df = pd.DataFrame(jinbutsu)\n",
    "df.to_csv(\"jinbutsu.csv\")"
   ]
  },
  {
   "cell_type": "markdown",
   "metadata": {},
   "source": [
    "# Retrieve jinbutsu authors infos"
   ]
  },
  {
   "cell_type": "code",
   "execution_count": 255,
   "metadata": {},
   "outputs": [
    {
     "name": "stderr",
     "output_type": "stream",
     "text": [
      "100%|██████████| 216/216 [00:50<00:00,  4.34it/s]\n"
     ]
    }
   ],
   "source": [
    "jinbutsu_authors = []\n",
    "for wkp in tqdm(author_wkps):\n",
    "    jinbutsu_authors.append(query_info(wkp))"
   ]
  },
  {
   "cell_type": "code",
   "execution_count": 258,
   "metadata": {
    "collapsed": true
   },
   "outputs": [],
   "source": [
    "df = pd.DataFrame(jinbutsu_authors)\n",
    "df.to_csv(\"jinbutsu_authors.csv\")"
   ]
  }
 ],
 "metadata": {
  "kernelspec": {
   "display_name": "Python 3",
   "language": "python",
   "name": "python3"
  },
  "language_info": {
   "codemirror_mode": {
    "name": "ipython",
    "version": 3
   },
   "file_extension": ".py",
   "mimetype": "text/x-python",
   "name": "python",
   "nbconvert_exporter": "python",
   "pygments_lexer": "ipython3",
   "version": "3.4.2"
  }
 },
 "nbformat": 4,
 "nbformat_minor": 2
}
